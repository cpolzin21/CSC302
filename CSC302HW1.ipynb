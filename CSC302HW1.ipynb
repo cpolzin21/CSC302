{
  "nbformat": 4,
  "nbformat_minor": 0,
  "metadata": {
    "colab": {
      "name": "CSC302HW1.ipynb",
      "provenance": [],
      "mount_file_id": "1RqfeYIY4zm9Jmq8fd-RcRUCfh5Jon_-i",
      "authorship_tag": "ABX9TyPzMoqk8yYoQJBkncgdEu40",
      "include_colab_link": true
    },
    "kernelspec": {
      "name": "python3",
      "display_name": "Python 3"
    },
    "language_info": {
      "name": "python"
    }
  },
  "cells": [
    {
      "cell_type": "markdown",
      "metadata": {
        "id": "view-in-github",
        "colab_type": "text"
      },
      "source": [
        "<a href=\"https://colab.research.google.com/github/cpolzin21/CSC302/blob/main/CSC302HW1.ipynb\" target=\"_parent\"><img src=\"https://colab.research.google.com/assets/colab-badge.svg\" alt=\"Open In Colab\"/></a>"
      ]
    },
    {
      "cell_type": "markdown",
      "source": [
        "Use pandas to read the olympic_medals.csv from the DATA folder on Google Drive. Then perform the followings by\n",
        "using pandas and/or Python built-in functions.\n",
        "\n",
        "(a) Find the size of the data frame. How many rows, how many columns?\n",
        "\n",
        "(b) Use the appropriate function to report the data types for all columns.\n",
        "\n",
        "(c) Find how many unique cities matches were held at. (Hint: unique( ). For instance, the following example tells\n",
        "how many unique Events held:)\n",
        "len(medals['Event'].unique())\n",
        "\n",
        "(d) Find how many medals the USA team won in total.\n",
        "\n",
        "(e) Find the total number of medals for each Nationality. (Hint: please search for groupby() function with count.\n",
        "For instance, the following example counts at how many locations each event was held. )\n",
        "medals.groupby(by='Event')['Location'].count()"
      ],
      "metadata": {
        "id": "D46EdXKSCRsh"
      }
    },
    {
      "cell_type": "code",
      "source": [
        "from google.colab import drive\n",
        "drive.mount('/content/drive')"
      ],
      "metadata": {
        "colab": {
          "base_uri": "https://localhost:8080/"
        },
        "id": "LzJ8Ms1V-GMj",
        "outputId": "91df447e-b4bf-412d-cebc-cf1c3ba82cff"
      },
      "execution_count": null,
      "outputs": [
        {
          "output_type": "stream",
          "name": "stdout",
          "text": [
            "Drive already mounted at /content/drive; to attempt to forcibly remount, call drive.mount(\"/content/drive\", force_remount=True).\n"
          ]
        }
      ]
    },
    {
      "cell_type": "code",
      "execution_count": null,
      "metadata": {
        "colab": {
          "base_uri": "https://localhost:8080/"
        },
        "id": "3rln0C1k0qk5",
        "outputId": "c4024508-0e4d-4399-9477-8e4abde02c78"
      },
      "outputs": [
        {
          "output_type": "execute_result",
          "data": {
            "text/plain": [
              "(2394, 8)"
            ]
          },
          "metadata": {},
          "execution_count": 13
        }
      ],
      "source": [
        "#(a)\n",
        "import pandas as pd\n",
        "df = pd.read_csv('/content/drive/MyDrive/DATA/olympic_medals.csv')\n",
        "df.shape"
      ]
    },
    {
      "cell_type": "code",
      "source": [
        "#(b)\n",
        "df.columns\n",
        "df.dtypes"
      ],
      "metadata": {
        "colab": {
          "base_uri": "https://localhost:8080/"
        },
        "id": "qEVQ_WmhE9ys",
        "outputId": "a11b686b-6e7a-4967-9de6-cc3f14fda296"
      },
      "execution_count": null,
      "outputs": [
        {
          "output_type": "execute_result",
          "data": {
            "text/plain": [
              "Gender         object\n",
              "Event          object\n",
              "Location       object\n",
              "Year            int64\n",
              "Medal          object\n",
              "Name           object\n",
              "Nationality    object\n",
              "Result         object\n",
              "dtype: object"
            ]
          },
          "metadata": {},
          "execution_count": 14
        }
      ]
    },
    {
      "cell_type": "code",
      "source": [
        "#(c)\n",
        "df['Location'].nunique()"
      ],
      "metadata": {
        "colab": {
          "base_uri": "https://localhost:8080/"
        },
        "id": "75cVpbLbFMDS",
        "outputId": "678055c8-c1f4-446b-cc5f-1957327e383d"
      },
      "execution_count": null,
      "outputs": [
        {
          "output_type": "execute_result",
          "data": {
            "text/plain": [
              "23"
            ]
          },
          "metadata": {},
          "execution_count": 19
        }
      ]
    },
    {
      "cell_type": "code",
      "source": [
        "#(d)\n",
        "(df['Nationality'].values == 'USA').sum()"
      ],
      "metadata": {
        "colab": {
          "base_uri": "https://localhost:8080/"
        },
        "id": "eGAZgucYIt2A",
        "outputId": "64f4f2e5-d2de-43e3-acec-593636662b4e"
      },
      "execution_count": null,
      "outputs": [
        {
          "output_type": "execute_result",
          "data": {
            "text/plain": [
              "638"
            ]
          },
          "metadata": {},
          "execution_count": 20
        }
      ]
    },
    {
      "cell_type": "code",
      "source": [
        "#(e)\n",
        "df.groupby(by='Nationality')['Medal'].count()"
      ],
      "metadata": {
        "colab": {
          "base_uri": "https://localhost:8080/"
        },
        "id": "Y1sN2XmnJuU1",
        "outputId": "d007ebb6-8f3d-4dfa-e59d-3fb65b9add0a"
      },
      "execution_count": null,
      "outputs": [
        {
          "output_type": "execute_result",
          "data": {
            "text/plain": [
              "Nationality\n",
              "ALG      9\n",
              "ARG      4\n",
              "AUS     57\n",
              "AUT      4\n",
              "BAH     12\n",
              "      ... \n",
              "URS    131\n",
              "USA    638\n",
              "VEN      2\n",
              "YUG      1\n",
              "ZAM      1\n",
              "Name: Medal, Length: 97, dtype: int64"
            ]
          },
          "metadata": {},
          "execution_count": 24
        }
      ]
    }
  ]
}