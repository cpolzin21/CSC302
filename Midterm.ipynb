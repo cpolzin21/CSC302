{
  "nbformat": 4,
  "nbformat_minor": 0,
  "metadata": {
    "colab": {
      "name": "Midterm.ipynb",
      "provenance": [],
      "collapsed_sections": [],
      "include_colab_link": true
    },
    "kernelspec": {
      "name": "python3",
      "display_name": "Python 3"
    },
    "language_info": {
      "name": "python"
    }
  },
  "cells": [
    {
      "cell_type": "markdown",
      "metadata": {
        "id": "view-in-github",
        "colab_type": "text"
      },
      "source": [
        "<a href=\"https://colab.research.google.com/github/cpolzin21/CSC302/blob/main/Midterm.ipynb\" target=\"_parent\"><img src=\"https://colab.research.google.com/assets/colab-badge.svg\" alt=\"Open In Colab\"/></a>"
      ]
    },
    {
      "cell_type": "code",
      "execution_count": null,
      "metadata": {
        "colab": {
          "base_uri": "https://localhost:8080/",
          "height": 239
        },
        "id": "jI6xQ8h2a9yQ",
        "outputId": "36a937ae-0b85-4093-d237-58fa5976ec8b"
      },
      "outputs": [
        {
          "output_type": "error",
          "ename": "NameError",
          "evalue": "ignored",
          "traceback": [
            "\u001b[0;31m---------------------------------------------------------------------------\u001b[0m",
            "\u001b[0;31mNameError\u001b[0m                                 Traceback (most recent call last)",
            "\u001b[0;32m<ipython-input-3-7ae2d567f9da>\u001b[0m in \u001b[0;36m<module>\u001b[0;34m()\u001b[0m\n\u001b[1;32m      9\u001b[0m \u001b[0;34m\u001b[0m\u001b[0m\n\u001b[1;32m     10\u001b[0m \u001b[0;31m#with matplotlib\u001b[0m\u001b[0;34m\u001b[0m\u001b[0;34m\u001b[0m\u001b[0;34m\u001b[0m\u001b[0m\n\u001b[0;32m---> 11\u001b[0;31m \u001b[0mplt\u001b[0m\u001b[0;34m.\u001b[0m\u001b[0mfigure\u001b[0m\u001b[0;34m(\u001b[0m\u001b[0;34m)\u001b[0m\u001b[0;34m\u001b[0m\u001b[0;34m\u001b[0m\u001b[0m\n\u001b[0m\u001b[1;32m     12\u001b[0m \u001b[0mplt\u001b[0m\u001b[0;34m.\u001b[0m\u001b[0mimshow\u001b[0m\u001b[0;34m(\u001b[0m\u001b[0mdf_corr\u001b[0m\u001b[0;34m,\u001b[0m \u001b[0mcmap\u001b[0m\u001b[0;34m=\u001b[0m\u001b[0;34m'hot'\u001b[0m\u001b[0;34m,\u001b[0m \u001b[0minterpolation\u001b[0m\u001b[0;34m=\u001b[0m\u001b[0;34m'nearest'\u001b[0m\u001b[0;34m)\u001b[0m\u001b[0;34m\u001b[0m\u001b[0;34m\u001b[0m\u001b[0m\n\u001b[1;32m     13\u001b[0m \u001b[0max\u001b[0m \u001b[0;34m=\u001b[0m \u001b[0mplt\u001b[0m\u001b[0;34m.\u001b[0m\u001b[0mgca\u001b[0m\u001b[0;34m(\u001b[0m\u001b[0;34m)\u001b[0m\u001b[0;34m\u001b[0m\u001b[0;34m\u001b[0m\u001b[0m\n",
            "\u001b[0;31mNameError\u001b[0m: name 'plt' is not defined"
          ]
        }
      ],
      "source": [
        "import numpy as np\n",
        "import pandas as pd\n",
        "import seaborn as sns\n",
        "\n",
        "# read dataset\n",
        "df = pd.read_csv('/content/drive/MyDrive/Best places Data - Sheet1 (2).csv')\n",
        "# get correlations\n",
        "df_corr = df.corr()\n",
        "\n",
        "#with matplotlib\n",
        "plt.figure()\n",
        "plt.imshow(df_corr, cmap='hot', interpolation='nearest')\n",
        "ax = plt.gca()\n",
        "\n",
        "plt.xticks(rotation=90)\n",
        "ax.set_xticks(range(len(df_corr.columns)))\n",
        "ax.set_xticklabels(df_corr.columns)\n",
        "\n",
        "ax.set_yticks(range(len(df_corr.columns)))\n",
        "ax.set_yticklabels(df_corr.columns)\n",
        "plt.show()"
      ]
    },
    {
      "cell_type": "code",
      "source": [
        ""
      ],
      "metadata": {
        "id": "18E1gLexd6Hr"
      },
      "execution_count": null,
      "outputs": []
    },
    {
      "cell_type": "markdown",
      "source": [
        "Bar Plot housing prices \n",
        "\n",
        "options(scipen=999)\n",
        "\n",
        "H <- c(198000, 460941, 295396, 267802, 331340, 327081, 357359, 25600, 126100, 142100, 330400, 224200)\n",
        "\n",
        "M <- c(\"Kalamazoo\",\"Ann Arbor\",\"Brighton\",\"South Lyon\",\"Chelsea\",\"Lansing\",\"Grand Rapids\",\"Flint\",\n",
        "       \"Saginaw\",\"Battle Creek\",\"Traverse City\",\"Milan\")\n",
        "\n",
        "png(file = \"MedianHousePrice.png\")\n",
        "\n",
        "dev.off()\n",
        "\n",
        "barplot(H,names.arg=M,xlab=\"City\",ylab=\"Cost(USD)\",main=\"Median house cost per city in Michigan\",col=\"cadetblue3\")"
      ],
      "metadata": {
        "id": "exHjVP6repkU"
      }
    },
    {
      "cell_type": "markdown",
      "source": [
        "Scatter Plot housing vs rent \n",
        "\n",
        "options(scipen=999)\n",
        "\n",
        "H <- c(198000, 460941, 295396, 267802, 331340, 327081, 357359, 25600, 126100, 142100, 330400, 224200)\n",
        "\n",
        "M <- c(604, 1408, 902, 818, 1012, 999, 1092, 610, 715, 812, 968, 1090)\n",
        "\n",
        "png(file = \"HouseCostvsRent.png\")\n",
        "\n",
        "dev.off()\n",
        "\n",
        "plot(x = H, y = M, xlab = \"Median House Price\", ylab = \"Rent\", main = \"Median cost of a house compared to rent\",pch = 15,col= \"aquamarine3\")\n",
        "\n",
        "abline(lm(M ~ H),col=\"coral1\")"
      ],
      "metadata": {
        "id": "gCDIIF2gfIRC"
      }
    },
    {
      "cell_type": "markdown",
      "source": [
        "sns.displot((df['Health']), kind='hist', kde='True')"
      ],
      "metadata": {
        "id": "7OwUyJSKgCyP"
      }
    }
  ]
}